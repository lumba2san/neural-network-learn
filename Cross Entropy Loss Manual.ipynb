{
 "cells": [
  {
   "cell_type": "code",
   "execution_count": 1,
   "id": "165fec13-1cac-4959-b484-530b53c44eb3",
   "metadata": {},
   "outputs": [],
   "source": [
    "import pandas as pd\n",
    "import matplotlib.pyplot as plt\n",
    "from tqdm import tqdm"
   ]
  },
  {
   "cell_type": "code",
   "execution_count": 2,
   "id": "ca335001-fba1-46cb-bd05-17a4ce2de50c",
   "metadata": {},
   "outputs": [
    {
     "data": {
      "text/plain": [
       "device(type='cpu')"
      ]
     },
     "execution_count": 2,
     "metadata": {},
     "output_type": "execute_result"
    }
   ],
   "source": [
    "import torch \n",
    "device = torch.device('cpu')\n",
    "device"
   ]
  },
  {
   "cell_type": "markdown",
   "id": "cb5e16ee-adf1-457e-ac7b-edd93f7c5cbb",
   "metadata": {},
   "source": [
    "# Import Data"
   ]
  },
  {
   "cell_type": "code",
   "execution_count": 3,
   "id": "12d32924-3d73-446d-bfef-0092de740da7",
   "metadata": {},
   "outputs": [],
   "source": [
    "import torchvision"
   ]
  },
  {
   "cell_type": "code",
   "execution_count": 4,
   "id": "f831809d-c595-421d-85f0-674382b1795b",
   "metadata": {},
   "outputs": [],
   "source": [
    "from torchvision import datasets, transforms\n",
    "from torchvision.transforms import v2\n",
    "\n",
    "from torch.utils.data import DataLoader"
   ]
  },
  {
   "cell_type": "code",
   "execution_count": 5,
   "id": "72b7e908-1c9f-41cf-8265-2541b7907f69",
   "metadata": {},
   "outputs": [],
   "source": [
    "transform = v2.Compose([\n",
    "    v2.Resize((32, 32)),\n",
    "    v2.ToImage(), \n",
    "    v2.ToDtype(torch.float32, True)\n",
    "])"
   ]
  },
  {
   "cell_type": "code",
   "execution_count": 6,
   "id": "43336663-f57d-4259-832f-02ff2cbc64f9",
   "metadata": {},
   "outputs": [],
   "source": [
    "trainset = datasets.EMNIST('data', split='letters', download=True, transform=transform, train=True)\n",
    "testset = datasets.EMNIST('data', split='letters', download=True, transform=transform, train=False)"
   ]
  },
  {
   "cell_type": "code",
   "execution_count": 7,
   "id": "88269722-1df5-4d64-b6b7-f1aab4f0cb32",
   "metadata": {},
   "outputs": [],
   "source": [
    "trainloader = DataLoader(trainset, batch_size=256, shuffle=True, drop_last=True)\n",
    "testloader  = DataLoader(testset, batch_size=256, shuffle=True, drop_last=True)"
   ]
  },
  {
   "cell_type": "code",
   "execution_count": 8,
   "id": "37344802-f12c-4bac-aab1-6197a9f99b3a",
   "metadata": {},
   "outputs": [
    {
     "data": {
      "image/png": "[encoded data removed]",
      "text/plain": [
       "<Figure size 640x480 with 1 Axes>"
      ]
     },
     "metadata": {},
     "output_type": "display_data"
    }
   ],
   "source": [
    "plt.imshow(trainset[0][0].permute(2, 1, 0), cmap=plt.cm.Grays_r);"
   ]
  },
  {
   "cell_type": "code",
   "execution_count": 9,
   "id": "a116b26b-e117-4244-aaa6-dd4fa26ebbbb",
   "metadata": {},
   "outputs": [
    {
     "data": {
      "text/plain": [
       "124800"
      ]
     },
     "execution_count": 9,
     "metadata": {},
     "output_type": "execute_result"
    }
   ],
   "source": [
    "len(trainset)#, len(testset)"
   ]
  },
  {
   "cell_type": "markdown",
   "id": "62c87faa-ab95-4dd7-ad3e-e48159e82629",
   "metadata": {},
   "source": [
    "# Modeling"
   ]
  },
  {
   "cell_type": "code",
   "execution_count": 10,
   "id": "d5dfb914-8d6b-4b1c-adb8-b2d3da3f6f05",
   "metadata": {},
   "outputs": [],
   "source": [
    "import torch\n",
    "from torch import nn, optim \n",
    "from torch.nn import functional as F\n",
    "from torch.autograd import Variable\n",
    "\n",
    "import math"
   ]
  },
  {
   "cell_type": "code",
   "execution_count": 11,
   "id": "b5683edb-67cb-4340-ac11-535d51cf7a2d",
   "metadata": {},
   "outputs": [],
   "source": [
    "class MainModel(nn.Module): \n",
    "    def __init__(self, num_class, input_size):\n",
    "        super().__init__()\n",
    "\n",
    "        self.input_size = input_size\n",
    "        self.fc = nn.Sequential(\n",
    "            nn.Linear(32 * 32, 256), \n",
    "            nn.Tanh(),\n",
    "            nn.Linear(256, 64),\n",
    "            nn.Tanh(),\n",
    "            nn.Linear(64, num_class),\n",
    "        )\n",
    "\n",
    "    def forward(self, x):\n",
    "        x = x.view(-1, self.input_size)\n",
    "        return self.fc(x)"
   ]
  },
  {
   "cell_type": "markdown",
   "id": "dafe9d5b-2a49-4901-b243-bb7022a5bda9",
   "metadata": {},
   "source": [
    "# Parameter Tuning"
   ]
  },
  {
   "cell_type": "code",
   "execution_count": 12,
   "id": "927b01c1-6d72-4cca-ab3e-bd76227e37dc",
   "metadata": {},
   "outputs": [],
   "source": [
    "def cross_entropy_loss(y_pred, y_true, ignore_index = 1):\n",
    "    y_pred = y_pred.transpose(2, 1)\n",
    "    batch_size, sequence_length, num_class = y_pred.shape\n",
    "\n",
    "    y_true_one_hot = F.one_hot(y_true, num_class) \n",
    "    if ignore_index > -1: \n",
    "        # buat label menjadi bernilai 0\n",
    "        y_true_one_hot[:, :, ignore_index] = 0\n",
    "\n",
    "    loss = - torch.sum(y_true_one_hot * torch.log(y_pred.softmax(-1)), dim=-1)\n",
    "    return loss[ loss != -0 ].mean()"
   ]
  },
  {
   "cell_type": "markdown",
   "id": "96490c20-abf9-4701-b71b-2c295619fbf1",
   "metadata": {},
   "source": [
    "- Blog : [Log Sum Trick](https://gregorygundersen.com/blog/2020/02/09/log-sum-exp/) <br>\n",
    "- Youtube : [Log Sum Trick: Anak AI](https://www.youtube.com/watch?v=gJ6pwxv72pw) <br>"
   ]
  },
  {
   "cell_type": "code",
   "execution_count": 13,
   "id": "f6c731ea-d569-4dd4-93fe-96ab82349a52",
   "metadata": {},
   "outputs": [],
   "source": [
    "def cross_entropy_loss(y_pred, y_true, ignore_index = -1):\n",
    "    # y_pred = y_pred.transpose(2, 1)\n",
    "    batch_size, num_class = y_pred.size(0), y_pred.size(1)\n",
    "\n",
    "    y_true_one_hot = F.one_hot(y_true, num_class) \n",
    "    if ignore_index > -1: \n",
    "        # label menjadi bernilai 0 pada index yang di abaikan\n",
    "        y_true_one_hot[:, ignore_index] = 0\n",
    "        mask = y_true_one_hot.sum(dim=-1, keepdim=True)\n",
    "\n",
    "    constant = y_pred.max(dim = -1).values.unsqueeze(-1)\n",
    "\n",
    "    # mengatasi overflow pada exponensial jika nilai logits terlalu besar\n",
    "    a = - torch.sum(y_true_one_hot * y_pred, dim=-1, keepdim=True) \n",
    "    b = torch.sum(torch.exp(y_pred - constant), dim=-1, keepdim=True).log()\n",
    "    loss = a + constant + b\n",
    "    \n",
    "    loss = loss * mask if ignore_index > -1 else loss\n",
    "\n",
    "    return loss[ loss != 0 ].mean()"
   ]
  },
  {
   "cell_type": "code",
   "execution_count": 14,
   "id": "d0892605-dc0a-4c4f-b9ee-0e839c1540ce",
   "metadata": {},
   "outputs": [],
   "source": [
    "def log_softmax(tensor): \n",
    "    constant = tensor.max(dim=-1, keepdim=True).values\n",
    "    a = torch.sum(torch.exp( tensor - constant ), dim=-1, keepdim=True).log()\n",
    "    log_sum_trick = constant + a\n",
    "    return tensor - log_sum_trick"
   ]
  },
  {
   "cell_type": "code",
   "execution_count": 15,
   "id": "155693e5-6f34-4743-b331-cfec07e088d8",
   "metadata": {},
   "outputs": [],
   "source": [
    "sample = torch.Tensor([1,0,1,0])"
   ]
  },
  {
   "cell_type": "code",
   "execution_count": 16,
   "id": "68acb29c-1053-4906-9ad2-7f22c7e036c0",
   "metadata": {},
   "outputs": [],
   "source": [
    "sample = sample.masked_fill(sample == 0, 0.1)"
   ]
  },
  {
   "cell_type": "code",
   "execution_count": 17,
   "id": "0374ae63-d418-4ca9-8603-4104c056413a",
   "metadata": {},
   "outputs": [
    {
     "data": {
      "text/plain": [
       "tensor([1.0000, 0.1000, 1.0000, 0.1000])"
      ]
     },
     "execution_count": 17,
     "metadata": {},
     "output_type": "execute_result"
    }
   ],
   "source": [
    "sample"
   ]
  },
  {
   "cell_type": "markdown",
   "id": "904c9fee-0e98-4963-912f-0cd8304de54f",
   "metadata": {},
   "source": [
    "Blog : \n",
    "- [Label Smoothing: Blog](https://medium.com/towards-data-science/what-is-label-smoothing-108debd7ef06)\n",
    "\n",
    "Paper : <br>\n",
    "- [When Does Label Smoothing Help?](https://arxiv.org/pdf/1906.02629)\n",
    "- [Delving Deep into Label Smoothing: Preliminary](https://arxiv.org/pdf/2011.12562)"
   ]
  },
  {
   "cell_type": "code",
   "execution_count": 18,
   "id": "e24ab427-9ecd-4311-9cdf-5bb2001815e2",
   "metadata": {},
   "outputs": [],
   "source": [
    "def nll_loss_n_log_softmax(y_pred, y_true, ignore_index = -1, label_smoothing=0.0):\n",
    "    batch_size, num_class = y_pred.size(0), y_pred.size(1)\n",
    "\n",
    "    y_true_one_hot = F.one_hot(y_true, num_class).to(torch.float32)\n",
    "\n",
    "    if label_smoothing > 0 : \n",
    "        y_true_one_hot = (1 - label_smoothing) * y_true_one_hot + label_smoothing / num_class\n",
    "        \n",
    "    \n",
    "    y_pred = log_softmax(y_pred) # log softmax activation function\n",
    "\n",
    "    if ignore_index > -1:\n",
    "        y_true_one_hot[:, ignore_index] = 0\n",
    "        # mask = y_true_one_hot.sum(dim=-1, keepdim=True)\n",
    "\n",
    "    loss = - torch.sum(y_true_one_hot * y_pred, dim=-1)\n",
    "    return loss[ loss != 0].mean() # reduction + ignore value 0 | ignore index"
   ]
  },
  {
   "cell_type": "code",
   "execution_count": 23,
   "id": "1b5ce887-5733-42a0-891d-471203cd7e3c",
   "metadata": {},
   "outputs": [
    {
     "name": "stdout",
     "output_type": "stream",
     "text": [
      "ERROR! Session/line number was not unique in database. History logging moved to new session 179\n"
     ]
    }
   ],
   "source": [
    "model = MainModel(len(trainset.classes), 32 * 32)\n",
    "# index 0 adalah index untuk token <PAD>\n",
    "# criterion = nn.CrossEntropyLoss(label_smoothing=0.1)\n",
    "criterion = nll_loss_n_log_softmax\n",
    "optimizer = optim.Adam(model.parameters(), lr=0.001)"
   ]
  },
  {
   "cell_type": "code",
   "execution_count": 24,
   "id": "4c507451-e559-4d99-994d-e75b4fde987a",
   "metadata": {},
   "outputs": [
    {
     "name": "stdout",
     "output_type": "stream",
     "text": [
      "torch.Size([256, 27]) torch.Size([256])\n",
      "tensor(3.3192, grad_fn=<MeanBackward0>)\n",
      "tensor(3.3192, grad_fn=<NllLossBackward0>)\n"
     ]
    }
   ],
   "source": [
    "for source, target in trainloader:\n",
    "\n",
    "    predict = model(source)\n",
    "    print(predict.shape, target.shape)\n",
    "\n",
    "    # loss = cross_entropy_loss(predict, target)\n",
    "    # print(loss)\n",
    "    loss = criterion(predict, target)\n",
    "    print(loss)\n",
    "    loss = nn.functional.cross_entropy(predict, target)\n",
    "    print(loss)\n",
    "    \n",
    "    break "
   ]
  },
  {
   "cell_type": "code",
   "execution_count": null,
   "id": "da10d9ba-8832-438e-8bd6-71931fbe8c47",
   "metadata": {},
   "outputs": [],
   "source": []
  },
  {
   "cell_type": "markdown",
   "id": "2e917047-6d88-4c36-ac28-7ec514ffc72a",
   "metadata": {},
   "source": [
    "# Training"
   ]
  },
  {
   "cell_type": "code",
   "execution_count": 25,
   "id": "7a7144f7-d99c-4bb0-8831-c406ffb514fb",
   "metadata": {},
   "outputs": [],
   "source": [
    "from tqdm import tqdm"
   ]
  },
  {
   "cell_type": "code",
   "execution_count": 26,
   "id": "fbb41f23-0cab-4d29-91ef-77c70aaf0e31",
   "metadata": {},
   "outputs": [],
   "source": [
    "total_epoch = 20\n",
    "train_cost = [] \n",
    "test_cost  = []"
   ]
  },
  {
   "cell_type": "code",
   "execution_count": 27,
   "id": "fbbc7639-5ae2-4cf5-8c22-c19d20597e9e",
   "metadata": {},
   "outputs": [
    {
     "name": "stdout",
     "output_type": "stream",
     "text": [
      "Epoch: 1\n"
     ]
    },
    {
     "name": "stderr",
     "output_type": "stream",
     "text": [
      "100%|█████████████████████████████████████████████████████████| 487/487 [01:08<00:00,  7.09it/s, cost=1.07, loss=0.632]\n",
      "100%|██████████████████████████████████████████████████████████| 81/81 [00:10<00:00,  7.73it/s, cost=0.583, loss=0.535]\n"
     ]
    },
    {
     "name": "stdout",
     "output_type": "stream",
     "text": [
      "Epoch: 2\n"
     ]
    },
    {
     "name": "stderr",
     "output_type": "stream",
     "text": [
      "100%|█████████████████████████████████████████████████████████| 487/487 [01:08<00:00,  7.11it/s, cost=0.466, loss=0.32]\n",
      "100%|██████████████████████████████████████████████████████████| 81/81 [00:10<00:00,  7.86it/s, cost=0.416, loss=0.455]\n"
     ]
    },
    {
     "name": "stdout",
     "output_type": "stream",
     "text": [
      "Epoch: 3\n"
     ]
    },
    {
     "name": "stderr",
     "output_type": "stream",
     "text": [
      "100%|█████████████████████████████████████████████████████████| 487/487 [01:08<00:00,  7.08it/s, cost=0.35, loss=0.477]\n",
      "100%|███████████████████████████████████████████████████████████| 81/81 [00:10<00:00,  7.86it/s, cost=0.35, loss=0.277]\n"
     ]
    },
    {
     "name": "stdout",
     "output_type": "stream",
     "text": [
      "Epoch: 4\n"
     ]
    },
    {
     "name": "stderr",
     "output_type": "stream",
     "text": [
      "100%|████████████████████████████████████████████████████████| 487/487 [01:07<00:00,  7.23it/s, cost=0.295, loss=0.325]\n",
      "100%|██████████████████████████████████████████████████████████| 81/81 [00:10<00:00,  7.78it/s, cost=0.325, loss=0.298]\n"
     ]
    },
    {
     "name": "stdout",
     "output_type": "stream",
     "text": [
      "Epoch: 5\n"
     ]
    },
    {
     "name": "stderr",
     "output_type": "stream",
     "text": [
      "100%|████████████████████████████████████████████████████████| 487/487 [01:07<00:00,  7.24it/s, cost=0.262, loss=0.278]\n",
      "100%|███████████████████████████████████████████████████████████| 81/81 [00:10<00:00,  7.84it/s, cost=0.32, loss=0.235]\n"
     ]
    },
    {
     "name": "stdout",
     "output_type": "stream",
     "text": [
      "Epoch: 6\n"
     ]
    },
    {
     "name": "stderr",
     "output_type": "stream",
     "text": [
      "100%|████████████████████████████████████████████████████████| 487/487 [01:07<00:00,  7.20it/s, cost=0.239, loss=0.236]\n",
      "100%|███████████████████████████████████████████████████████████| 81/81 [00:12<00:00,  6.28it/s, cost=0.31, loss=0.341]\n"
     ]
    },
    {
     "name": "stdout",
     "output_type": "stream",
     "text": [
      "Epoch: 7\n"
     ]
    },
    {
     "name": "stderr",
     "output_type": "stream",
     "text": [
      "100%|████████████████████████████████████████████████████████| 487/487 [01:10<00:00,  6.87it/s, cost=0.219, loss=0.253]\n",
      "100%|██████████████████████████████████████████████████████████| 81/81 [00:10<00:00,  7.88it/s, cost=0.303, loss=0.225]\n"
     ]
    },
    {
     "name": "stdout",
     "output_type": "stream",
     "text": [
      "Epoch: 8\n"
     ]
    },
    {
     "name": "stderr",
     "output_type": "stream",
     "text": [
      "100%|████████████████████████████████████████████████████████| 487/487 [01:07<00:00,  7.22it/s, cost=0.204, loss=0.281]\n",
      "100%|██████████████████████████████████████████████████████████| 81/81 [00:10<00:00,  7.45it/s, cost=0.304, loss=0.371]\n"
     ]
    },
    {
     "name": "stdout",
     "output_type": "stream",
     "text": [
      "Epoch: 9\n"
     ]
    },
    {
     "name": "stderr",
     "output_type": "stream",
     "text": [
      "100%|█████████████████████████████████████████████████████████| 487/487 [01:16<00:00,  6.38it/s, cost=0.19, loss=0.248]\n",
      "100%|██████████████████████████████████████████████████████████| 81/81 [00:11<00:00,  7.31it/s, cost=0.301, loss=0.393]\n"
     ]
    },
    {
     "name": "stdout",
     "output_type": "stream",
     "text": [
      "Epoch: 10\n"
     ]
    },
    {
     "name": "stderr",
     "output_type": "stream",
     "text": [
      "100%|█████████████████████████████████████████████████████████| 487/487 [01:14<00:00,  6.58it/s, cost=0.18, loss=0.141]\n",
      "100%|██████████████████████████████████████████████████████████| 81/81 [00:10<00:00,  7.65it/s, cost=0.305, loss=0.214]\n"
     ]
    },
    {
     "name": "stdout",
     "output_type": "stream",
     "text": [
      "Epoch: 11\n"
     ]
    },
    {
     "name": "stderr",
     "output_type": "stream",
     "text": [
      "100%|████████████████████████████████████████████████████████| 487/487 [01:07<00:00,  7.25it/s, cost=0.169, loss=0.178]\n",
      "100%|██████████████████████████████████████████████████████████| 81/81 [00:10<00:00,  7.82it/s, cost=0.308, loss=0.347]\n"
     ]
    },
    {
     "name": "stdout",
     "output_type": "stream",
     "text": [
      "Epoch: 12\n"
     ]
    },
    {
     "name": "stderr",
     "output_type": "stream",
     "text": [
      "100%|█████████████████████████████████████████████████████████| 487/487 [01:07<00:00,  7.25it/s, cost=0.16, loss=0.137]\n",
      "100%|███████████████████████████████████████████████████████████| 81/81 [00:10<00:00,  7.82it/s, cost=0.315, loss=0.36]\n"
     ]
    },
    {
     "name": "stdout",
     "output_type": "stream",
     "text": [
      "Epoch: 13\n"
     ]
    },
    {
     "name": "stderr",
     "output_type": "stream",
     "text": [
      "100%|████████████████████████████████████████████████████████| 487/487 [01:11<00:00,  6.80it/s, cost=0.153, loss=0.142]\n",
      "100%|███████████████████████████████████████████████████████████| 81/81 [00:10<00:00,  7.43it/s, cost=0.311, loss=0.36]\n"
     ]
    },
    {
     "name": "stdout",
     "output_type": "stream",
     "text": [
      "Epoch: 14\n"
     ]
    },
    {
     "name": "stderr",
     "output_type": "stream",
     "text": [
      "100%|████████████████████████████████████████████████████████| 487/487 [01:18<00:00,  6.22it/s, cost=0.145, loss=0.127]\n",
      "100%|███████████████████████████████████████████████████████████| 81/81 [00:13<00:00,  6.21it/s, cost=0.31, loss=0.357]\n"
     ]
    },
    {
     "name": "stdout",
     "output_type": "stream",
     "text": [
      "Epoch: 15\n"
     ]
    },
    {
     "name": "stderr",
     "output_type": "stream",
     "text": [
      "100%|█████████████████████████████████████████████████████████| 487/487 [01:09<00:00,  7.00it/s, cost=0.137, loss=0.18]\n",
      "100%|██████████████████████████████████████████████████████████| 81/81 [00:10<00:00,  7.71it/s, cost=0.315, loss=0.273]\n"
     ]
    },
    {
     "name": "stdout",
     "output_type": "stream",
     "text": [
      "Epoch: 16\n"
     ]
    },
    {
     "name": "stderr",
     "output_type": "stream",
     "text": [
      "100%|████████████████████████████████████████████████████████| 487/487 [01:10<00:00,  6.90it/s, cost=0.133, loss=0.219]\n",
      "100%|███████████████████████████████████████████████████████████| 81/81 [00:10<00:00,  7.59it/s, cost=0.325, loss=0.33]\n"
     ]
    },
    {
     "name": "stdout",
     "output_type": "stream",
     "text": [
      "Epoch: 17\n"
     ]
    },
    {
     "name": "stderr",
     "output_type": "stream",
     "text": [
      "100%|████████████████████████████████████████████████████████| 487/487 [01:19<00:00,  6.14it/s, cost=0.126, loss=0.152]\n",
      "100%|██████████████████████████████████████████████████████████| 81/81 [00:13<00:00,  6.22it/s, cost=0.333, loss=0.403]\n"
     ]
    },
    {
     "name": "stdout",
     "output_type": "stream",
     "text": [
      "Epoch: 18\n"
     ]
    },
    {
     "name": "stderr",
     "output_type": "stream",
     "text": [
      "100%|████████████████████████████████████████████████████████| 487/487 [01:08<00:00,  7.07it/s, cost=0.121, loss=0.114]\n",
      "100%|██████████████████████████████████████████████████████████| 81/81 [00:10<00:00,  7.74it/s, cost=0.329, loss=0.249]\n"
     ]
    },
    {
     "name": "stdout",
     "output_type": "stream",
     "text": [
      "Epoch: 19\n"
     ]
    },
    {
     "name": "stderr",
     "output_type": "stream",
     "text": [
      "100%|████████████████████████████████████████████████████████| 487/487 [01:12<00:00,  6.72it/s, cost=0.117, loss=0.105]\n",
      "100%|██████████████████████████████████████████████████████████| 81/81 [00:13<00:00,  6.04it/s, cost=0.333, loss=0.343]\n"
     ]
    },
    {
     "name": "stdout",
     "output_type": "stream",
     "text": [
      "Epoch: 20\n"
     ]
    },
    {
     "name": "stderr",
     "output_type": "stream",
     "text": [
      "100%|████████████████████████████████████████████████████████| 487/487 [01:14<00:00,  6.56it/s, cost=0.113, loss=0.214]\n",
      "100%|██████████████████████████████████████████████████████████| 81/81 [00:11<00:00,  7.32it/s, cost=0.342, loss=0.436]\n"
     ]
    }
   ],
   "source": [
    "cost_min = 10\n",
    "# patience = 0\n",
    "# max_patience = 3\n",
    "\n",
    "for epoch in range(total_epoch):\n",
    "\n",
    "    print(f'Epoch: {epoch + 1}')\n",
    "    \n",
    "    cost = 0 \n",
    "    model.train()\n",
    "    with tqdm(trainloader) as pbar:\n",
    "        for indices, (feature, target) in enumerate(pbar, start=1):\n",
    "        \n",
    "            pred = model(feature)\n",
    "            loss = criterion(pred, target)\n",
    "        \n",
    "            optimizer.zero_grad()\n",
    "            loss.backward()\n",
    "            optimizer.step()\n",
    "    \n",
    "            cost += loss.item()\n",
    "            pbar.set_postfix(loss=loss.item(), cost=cost/indices)\n",
    "\n",
    "    train_cost.append(cost / indices)\n",
    "\n",
    "    cost = 0\n",
    "    model.eval()\n",
    "    with torch.no_grad():\n",
    "        pbar = tqdm(testloader)\n",
    "        for indices, (feature, target) in enumerate(pbar, start=1):\n",
    "        \n",
    "            pred = model(feature)\n",
    "            loss = criterion(pred, target)\n",
    "        \n",
    "            cost += loss.item()\n",
    "            pbar.set_postfix(loss=loss.item(), cost=cost/indices)\n",
    "\n",
    "    \n",
    "    test_cost.append(cost / indices)"
   ]
  },
  {
   "cell_type": "markdown",
   "id": "6da6bd98-29aa-4835-9498-5794d37a1a2b",
   "metadata": {},
   "source": [
    "# Plot Loss"
   ]
  },
  {
   "cell_type": "code",
   "execution_count": 28,
   "id": "efef53f8-0643-4a9f-b6a1-a5f4c6a18f77",
   "metadata": {},
   "outputs": [
    {
     "data": {
      "image/png": "[encoded data removed]",
      "text/plain": [
       "<Figure size 640x480 with 1 Axes>"
      ]
     },
     "metadata": {},
     "output_type": "display_data"
    }
   ],
   "source": [
    "plt.plot(train_cost)\n",
    "plt.plot(test_cost)\n",
    "plt.title('Loss');"
   ]
  },
  {
   "cell_type": "code",
   "execution_count": null,
   "id": "c6961043-6386-4b33-b707-7e348cef6f7a",
   "metadata": {},
   "outputs": [],
   "source": []
  },
  {
   "cell_type": "code",
   "execution_count": null,
   "id": "1c3f3b17-5e4b-415a-8173-822572c28c0f",
   "metadata": {},
   "outputs": [],
   "source": []
  },
  {
   "cell_type": "code",
   "execution_count": null,
   "id": "18dc6d27-fe98-4cdc-a598-5eb782d5c97c",
   "metadata": {},
   "outputs": [],
   "source": []
  },
  {
   "cell_type": "code",
   "execution_count": null,
   "id": "82ab7a95-4ef1-4810-8a7c-28a77caa5463",
   "metadata": {},
   "outputs": [],
   "source": []
  }
 ],
 "metadata": {
  "kernelspec": {
   "display_name": "Python 3 (ipykernel)",
   "language": "python",
   "name": "python3"
  },
  "language_info": {
   "codemirror_mode": {
    "name": "ipython",
    "version": 3
   },
   "file_extension": ".py",
   "mimetype": "text/x-python",
   "name": "python",
   "nbconvert_exporter": "python",
   "pygments_lexer": "ipython3",
   "version": "3.13.3"
  }
 },
 "nbformat": 4,
 "nbformat_minor": 5
}
