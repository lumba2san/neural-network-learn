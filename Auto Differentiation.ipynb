{
 "cells": [
  {
   "cell_type": "markdown",
   "id": "d995f7f4-5d6d-460b-8008-090c0e67f159",
   "metadata": {},
   "source": [
    "# Source \n",
    "- [Blog Yaae: Automatic Differentiation Explanation](https://hackmd.io/@machine-learning/blog-post-yaae#I-Introduction)\n",
    "- [Youtube: L6.2 Understanding Automatic Differentiation via Computation Graphs](https://www.youtube.com/watch?v=oY6-i2Ybin4)"
   ]
  },
  {
   "cell_type": "code",
   "execution_count": 1,
   "id": "9b40b055-3312-4579-b002-9ac119ad9843",
   "metadata": {},
   "outputs": [],
   "source": [
    "import numpy as np"
   ]
  },
  {
   "cell_type": "code",
   "execution_count": 2,
   "id": "3eee104d-14ba-4143-aa1c-f0a155ed88c1",
   "metadata": {},
   "outputs": [],
   "source": [
    "class CustomNumber:\n",
    "    def __init__(self, num):\n",
    "        self.num = num \n",
    "\n",
    "    def __add__(self, other):\n",
    "        return self.num + other \n",
    "\n",
    "    def __sub__(self, other):\n",
    "        return self.num - other\n",
    "    "
   ]
  },
  {
   "cell_type": "code",
   "execution_count": 3,
   "id": "5bf915aa-a27b-41a6-9178-7d358ba860c7",
   "metadata": {},
   "outputs": [],
   "source": [
    "a = CustomNumber(2)"
   ]
  },
  {
   "cell_type": "code",
   "execution_count": 4,
   "id": "44f00d59-64ee-4de2-ba68-506fbcd7f978",
   "metadata": {},
   "outputs": [
    {
     "data": {
      "text/plain": [
       "1"
      ]
     },
     "execution_count": 4,
     "metadata": {},
     "output_type": "execute_result"
    }
   ],
   "source": [
    "a - 1"
   ]
  },
  {
   "cell_type": "code",
   "execution_count": 5,
   "id": "7a6b190e-0363-42ea-b273-5407ed295241",
   "metadata": {},
   "outputs": [
    {
     "data": {
      "text/plain": [
       "array([1, 2])"
      ]
     },
     "execution_count": 5,
     "metadata": {},
     "output_type": "execute_result"
    }
   ],
   "source": [
    "x = np.array([1, 2])\n",
    "x"
   ]
  },
  {
   "cell_type": "code",
   "execution_count": 6,
   "id": "f12c3fb3-301d-4abc-9018-bf8398bb7950",
   "metadata": {},
   "outputs": [
    {
     "data": {
      "text/plain": [
       "array([1, 2, 3])"
      ]
     },
     "execution_count": 6,
     "metadata": {},
     "output_type": "execute_result"
    }
   ],
   "source": [
    "y = np.array([1,2,3])\n",
    "y"
   ]
  },
  {
   "cell_type": "code",
   "execution_count": 7,
   "id": "0e80bfae-17ae-4399-9189-65077462d76d",
   "metadata": {},
   "outputs": [
    {
     "data": {
      "text/plain": [
       "array([[1, 2],\n",
       "       [2, 4],\n",
       "       [3, 6]])"
      ]
     },
     "execution_count": 7,
     "metadata": {},
     "output_type": "execute_result"
    }
   ],
   "source": [
    "np.outer(x, y).T"
   ]
  },
  {
   "cell_type": "code",
   "execution_count": 8,
   "id": "04cbd1ad-86a8-4d7f-9a24-3838633b03b9",
   "metadata": {},
   "outputs": [],
   "source": [
    "class Test:\n",
    "    def angka(self, x):\n",
    "        return 1\n",
    "\n",
    "    def angka(self, x, y):\n",
    "        return 2"
   ]
  },
  {
   "cell_type": "code",
   "execution_count": 9,
   "id": "eefc37c2-a129-40c9-819b-2e14c6d29e9e",
   "metadata": {},
   "outputs": [],
   "source": [
    "test = Test()"
   ]
  },
  {
   "cell_type": "code",
   "execution_count": 10,
   "id": "e3cda82b-15d8-4c10-8c9d-2a43344dfca6",
   "metadata": {},
   "outputs": [
    {
     "data": {
      "text/plain": [
       "2"
      ]
     },
     "execution_count": 10,
     "metadata": {},
     "output_type": "execute_result"
    }
   ],
   "source": [
    "test.angka(1, 1)"
   ]
  },
  {
   "cell_type": "code",
   "execution_count": 11,
   "id": "5be2fb6c-2b41-4e66-b209-86c6ae699daa",
   "metadata": {},
   "outputs": [],
   "source": [
    "def topo_sort(v, L, visited):\n",
    "        \"\"\"\n",
    "            Returns list of all of the children in the graph in topological order.\n",
    "            Parameters:\n",
    "            - v: last node in the graph.\n",
    "            - L: list of all of the children in the graph in topological order (empty at the beginning).\n",
    "            - visited: set of visited children.\n",
    "        \"\"\"\n",
    "        if v not in visited:\n",
    "            visited.add(v)\n",
    "            for child in v.children:\n",
    "                topo_sort(child, L, visited)\n",
    "            L.append(v)\n",
    "        return L"
   ]
  },
  {
   "cell_type": "code",
   "execution_count": 12,
   "id": "f3a7115f-a298-4bd9-81af-3469bda40519",
   "metadata": {},
   "outputs": [],
   "source": [
    "def compress_gradient(grad, other_tensor_shape):\n",
    "    \"\"\"\n",
    "        Returns the gradient but compressed (needed when gradient shape mismatch during reverse mode).\n",
    "\n",
    "        Paramaters:\n",
    "        - grad: gradient.\n",
    "        - other_tensor_shape: shape of target tensor.\n",
    "    \"\"\"\n",
    "    ndims_added = grad.ndim - len(other_tensor_shape)\n",
    "    for _ in range(ndims_added): \n",
    "        grad = grad.sum(axis=0)         \n",
    "    for i, dim in enumerate(other_tensor_shape):\n",
    "        if dim == 1: \n",
    "            grad = grad.sum(axis=i, keepdims=True) \n",
    "    return grad"
   ]
  },
  {
   "cell_type": "code",
   "execution_count": 13,
   "id": "67569c35-599d-4582-b588-425bc03b5d15",
   "metadata": {},
   "outputs": [],
   "source": [
    "class Node:\n",
    "    def __init__(self, data, requires_grad=True, children=[]):\n",
    "\n",
    "        self.data = data if isinstance(data, np.ndarray) else np.array(data)\n",
    "        self.requires_grad = requires_grad\n",
    "        self.children = children \n",
    "        self.grad= None \n",
    "\n",
    "        if self.requires_grad:\n",
    "            self.zero_grad()\n",
    "\n",
    "        self._compute_derivatives = lambda: None\n",
    "\n",
    "    @property\n",
    "    def shape(self):\n",
    "        return self.data.shape\n",
    "\n",
    "    def zero_grad(self):\n",
    "        self.grad = Node(np.zeros_like(self.data, dtype=np.float64), requires_grad=False)\n",
    "\n",
    "    def backward(self, grad=None):\n",
    "        L, visited = [], set()\n",
    "        topo = topo_sort(self, L, visited)\n",
    "\n",
    "        if grad is None:\n",
    "            if self.shape == ():\n",
    "                self.grad = Node(1, requires_grad=False)\n",
    "            else:\n",
    "                raise RuntimeError('backward: grad must be specified for non-0 tensor')\n",
    "        else:\n",
    "            self.grad = Node(grad, requires_grad=False) if isinstance(grad, (np.ndarray, list)) else grad\n",
    "    \n",
    "        for v in reversed(topo):\n",
    "            v._compute_derivatives()\n",
    "\n",
    "    # operators\n",
    "    def __add__(self, other):\n",
    "        op = Add(self, other)\n",
    "        out = op.forward_pass()\n",
    "        out._compute_derivatives = op.compute_derivatives \n",
    "        return out\n",
    "\n",
    "    def matmul(self, other):\n",
    "        op = Matmul(self, other)\n",
    "        out = op.forward_pass()\n",
    "        out._compute_derivatives = op.compute_derivatives \n",
    "        return out\n",
    "\n",
    "    def sin(self):\n",
    "        op = Sin(self)\n",
    "        out = op.forward_pass()\n",
    "        out._compute_derivatives = op.compute_derivatives \n",
    "        return out \n",
    "\n",
    "    def relu(self):\n",
    "        op = ReLU(self)\n",
    "        out = op.forward_pass()\n",
    "        out._compute_derivatives = op.compute_derivatives\n",
    "        return out\n"
   ]
  },
  {
   "cell_type": "code",
   "execution_count": 14,
   "id": "3611bbe0-74ff-4aec-ad68-d4983dc02d95",
   "metadata": {},
   "outputs": [],
   "source": [
    "class Add():\n",
    "    \n",
    "    def __init__(self, node1, node2):\n",
    "        self.node1 = node1 if isinstance(node1, Node) else Node(node1)\n",
    "        self.node2 = node2 if isinstance(node2, Node) else Node(node2)\n",
    "    \n",
    "    def forward_pass(self):\n",
    "        self.out = Node(np.add(self.node1.data, self.node2.data), children=[self.node1, self.node2])\n",
    "        return self.out\n",
    "\n",
    "    def compute_derivatives(self):\n",
    "        if self.node1.requires_grad:\n",
    "            self.node1.grad.data += compress_gradient(self.out.grad.data, self.node1.shape)\n",
    "        if self.node2.requires_grad:\n",
    "            self.node2.grad.data += compress_gradient(self.out.grad.data, self.node2.shape)\n",
    "            \n"
   ]
  },
  {
   "cell_type": "code",
   "execution_count": 15,
   "id": "10edc24c-5f62-4ab7-852b-9daf81a9a861",
   "metadata": {},
   "outputs": [],
   "source": [
    "class Matmul():\n",
    "\n",
    "    def __init__(self, node1, node2):\n",
    "        self.node1 = node1 if isinstance(node1, Node) else Node(node1)\n",
    "        self.node2 = node2 if isinstance(node2, Node) else Node(node2)\n",
    "\n",
    "    def forward_pass(self):\n",
    "        self.out = Node(self.node1.data @ self.node2.data, children=[self.node1, self.node2])\n",
    "        return self.out\n",
    "\n",
    "    def compute_derivatives(self):\n",
    "        dim = [i for i in range(len(self.node1.data.shape))]\n",
    "        if len(dim) > 1:\n",
    "            dim[-1], dim[-2] = dim[-2], dim[-1]\n",
    "\n",
    "        if self.node1.requires_grad:\n",
    "            self.node1.grad.data = self.out.grad.data @ self.node2.data.transpose(dim)\n",
    "        if self.node2.requires_grad:\n",
    "            self.node2.grad.data = self.node1.data.transpose(dim) @ self.out.grad.data\n"
   ]
  },
  {
   "cell_type": "code",
   "execution_count": 16,
   "id": "3ab23f3f-42d0-48c6-936e-8a4a32a2ff5a",
   "metadata": {},
   "outputs": [],
   "source": [
    "class Sin():\n",
    "\n",
    "    def __init__(self, node1):\n",
    "        self.node1 = node1 if isinstance(node1, Node) else Node(node1)\n",
    "    \n",
    "    def forward_pass(self):\n",
    "        self.out = Node(np.sin(self.node1.data), children=[self.node1])\n",
    "        return self.out\n",
    "\n",
    "    def compute_derivatives(self):\n",
    "        self.node1.grad.data += np.cos(self.node1.data) * self.out.grad.data"
   ]
  },
  {
   "cell_type": "code",
   "execution_count": 17,
   "id": "dd7ecf7b-3001-4dd0-9158-8a9c288bc276",
   "metadata": {},
   "outputs": [],
   "source": [
    "class ReLU():\n",
    "\n",
    "    def __init__(self, node1):\n",
    "        self.node1 = node1 if isinstance(node1, Node) else Node(node1)\n",
    "\n",
    "    def forward_pass(self):\n",
    "        self.out = Node(self.node1.data * (self.node1.data > 0), children=[self.node1])\n",
    "        return self.out\n",
    "\n",
    "    def compute_derivatives(self):\n",
    "        self.node1.grad.data += self.out.grad.data * (self.node1.data > 0)"
   ]
  },
  {
   "cell_type": "markdown",
   "id": "330b4fae-493c-4fc0-a73f-280e973a14ee",
   "metadata": {},
   "source": [
    "# Test"
   ]
  },
  {
   "cell_type": "code",
   "execution_count": 21,
   "id": "4a5dc98c-404f-4c33-8693-ca6f7ea608de",
   "metadata": {},
   "outputs": [
    {
     "name": "stdout",
     "output_type": "stream",
     "text": [
      "1.0\n"
     ]
    }
   ],
   "source": [
    "w1 = Node(np.array(10), requires_grad=True)\n",
    "w2 = Node(np.array(10), requires_grad=True)\n",
    "# w2 = Node([10, 20], requires_grad=True)\n",
    "w3 = w2 + w1\n",
    "# w4 = w3.relu()\n",
    "# w5 = w3 + w4\n",
    "# z = w5\n",
    "w3.backward()\n",
    "print(w1.grad.data) \n",
    "# print(w2.grad.data)"
   ]
  },
  {
   "cell_type": "code",
   "execution_count": null,
   "id": "8fd2cbcc-1991-4be0-bc64-94e9595209ec",
   "metadata": {},
   "outputs": [],
   "source": []
  }
 ],
 "metadata": {
  "kernelspec": {
   "display_name": "Python 3 (ipykernel)",
   "language": "python",
   "name": "python3"
  },
  "language_info": {
   "codemirror_mode": {
    "name": "ipython",
    "version": 3
   },
   "file_extension": ".py",
   "mimetype": "text/x-python",
   "name": "python",
   "nbconvert_exporter": "python",
   "pygments_lexer": "ipython3",
   "version": "3.13.3"
  }
 },
 "nbformat": 4,
 "nbformat_minor": 5
}
