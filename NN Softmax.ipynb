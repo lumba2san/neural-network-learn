{
 "cells": [
  {
   "cell_type": "markdown",
   "id": "cb4313e2-a0e6-468f-9a4c-0fb4709a6ce3",
   "metadata": {},
   "source": [
    "# Note : \n",
    "ID : Percobaan ini dilakukan untuk mengetahui cara kerja dari Softmax dan bagaimana aplikasi back propagation pada Softmax jika digabungkan dengan persamaan linear <br>\n",
    "EN : This experiment was conducted to find out how Softmax works and how to apply back propagation to Softmax when combined with linear equations. <br>\n",
    "\n",
    "**Source** <br>\n",
    "Blog : \n",
    "- [Medium Thomas Kurbiel: Cross Entropy & Softmax Derivative](https://medium.com/towards-data-science/derivative-of-the-softmax-function-and-the-categorical-cross-entropy-loss-ffceefc081d1)\n",
    "- [Raúl Gómez blog](https://gombru.github.io/2018/05/23/cross_entropy_loss/)\n",
    "- [Eli Bendersky's website](https://eli.thegreenplace.net/2016/the-softmax-function-and-its-derivative/)"
   ]
  },
  {
   "cell_type": "code",
   "execution_count": 2,
   "id": "210364f6-c404-4e72-a41d-e29272482eb1",
   "metadata": {},
   "outputs": [],
   "source": [
    "import numpy as np \n",
    "from matplotlib import pyplot as plt"
   ]
  },
  {
   "cell_type": "markdown",
   "id": "2e4dbf28-7bec-490a-8f0f-a0453aac658d",
   "metadata": {},
   "source": [
    "# Dataset"
   ]
  },
  {
   "cell_type": "code",
   "execution_count": 3,
   "id": "8242dc31-93f8-4131-bd2a-aab1342815be",
   "metadata": {},
   "outputs": [],
   "source": [
    "import torchvision\n",
    "from torchvision import transforms\n",
    "from torch.utils.data import DataLoader\n",
    "\n",
    "from torch.nn import functional as F"
   ]
  },
  {
   "cell_type": "code",
   "execution_count": 4,
   "id": "e0c21228-e378-46f2-9ca9-66d776d38083",
   "metadata": {},
   "outputs": [],
   "source": [
    "transform = transforms.Compose([\n",
    "    transforms.ToTensor(),\n",
    "])"
   ]
  },
  {
   "cell_type": "code",
   "execution_count": 5,
   "id": "12624ffc-7963-4d7a-8429-653f554cbd8d",
   "metadata": {},
   "outputs": [],
   "source": [
    "trainset = torchvision.datasets.MNIST('data', download=True, train=True, transform=transform)\n",
    "trainloader = DataLoader(trainset, 512, True, drop_last=True)"
   ]
  },
  {
   "cell_type": "code",
   "execution_count": 6,
   "id": "9b259017-46a3-44f6-a1d5-448cbaa60102",
   "metadata": {},
   "outputs": [
    {
     "data": {
      "text/plain": [
       "10"
      ]
     },
     "execution_count": 6,
     "metadata": {},
     "output_type": "execute_result"
    }
   ],
   "source": [
    "num_class = len(trainset.classes)\n",
    "num_class"
   ]
  },
  {
   "cell_type": "code",
   "execution_count": 7,
   "id": "e752fd2b-ec35-443a-995f-08db89c2bebb",
   "metadata": {},
   "outputs": [],
   "source": [
    "def transform_data(feature, target):\n",
    "    feature = np.array(feature).flatten() / 255\n",
    "    target_onehot = np.array([ 1 if i == target else 0 for i in range(num_class) ])\n",
    "    return feature, target_onehot\n",
    "\n",
    "def transform_data(feature, target):\n",
    "    batch_size = feature.size(0)\n",
    "    feature = feature.view(batch_size, -1).numpy()\n",
    "    target_onehot = F.one_hot(target, 10).numpy()\n",
    "    return feature, target_onehot"
   ]
  },
  {
   "cell_type": "code",
   "execution_count": 8,
   "id": "2167b56f-0607-4cfd-968d-febd63242419",
   "metadata": {},
   "outputs": [
    {
     "name": "stdout",
     "output_type": "stream",
     "text": [
      "(512, 784) (512, 10)\n"
     ]
    }
   ],
   "source": [
    "for feature, target in trainloader:\n",
    "    feature, target = transform_data(feature, target)\n",
    "    print(feature.shape, target.shape)\n",
    "    \n",
    "    break "
   ]
  },
  {
   "cell_type": "markdown",
   "id": "671d158f-0bcc-4877-a552-1b8a80bb5e58",
   "metadata": {},
   "source": [
    "# Modeling"
   ]
  },
  {
   "cell_type": "code",
   "execution_count": 9,
   "id": "61193ebe-84f1-4522-bb04-da29ec22f42f",
   "metadata": {},
   "outputs": [],
   "source": [
    "class Linear:\n",
    "    def __init__(self, input_size, output_size):\n",
    "        self.weights = np.random.randn(input_size, output_size)\n",
    "        self.bias = np.random.randn(1, output_size)\n",
    "\n",
    "    def __call__(self, x):\n",
    "        return x @ self.weights + self.bias"
   ]
  },
  {
   "cell_type": "code",
   "execution_count": 10,
   "id": "5091b81f-e08d-4bea-8deb-4645839099e4",
   "metadata": {},
   "outputs": [],
   "source": [
    "class Softmax:\n",
    "    def __init__(self, dim):\n",
    "        self.dim = dim\n",
    "\n",
    "    def __call__(self, x):\n",
    "        x = np.exp(x)\n",
    "        summation = x.sum(axis=self.dim, keepdims=True)\n",
    "        return x / summation"
   ]
  },
  {
   "cell_type": "code",
   "execution_count": 11,
   "id": "c4b5729c-f2a2-439c-92af-62720bad72b8",
   "metadata": {},
   "outputs": [],
   "source": [
    "class CrossEntropyLoss:\n",
    "    def __call__(self, prediction, ground_truth):\n",
    "        entropy = ground_truth * np.log(prediction)\n",
    "        loss = - entropy.sum(axis=-1)\n",
    "        return loss.mean()"
   ]
  },
  {
   "cell_type": "code",
   "execution_count": 1,
   "id": "88646be2-82a9-4bf9-9158-a0d2f5926c7a",
   "metadata": {},
   "outputs": [],
   "source": [
    "# def derivative(feature, target, prediction, num_class): # didn't work...\n",
    "#     A = (target / prediction)\n",
    "#     A = A.T @ np.ones((1, 10))\n",
    "\n",
    "#     first_term = p * (1 - p)\n",
    "#     second_term = -p * p\n",
    "\n",
    "#     I = np.eye(num_class)\n",
    "#     for i, vector in enumerate(I):\n",
    "#         for j, scalar in enumerate(vector): \n",
    "#             if I[i, j] == 1.0:\n",
    "#                 I[i, j] = first_term[0, j] \n",
    "#             else : \n",
    "#                 I[i, j] = second_term[0, j]\n",
    "#     B = I \n",
    "#     C = feature.T @ np.ones((1, num_class))\n",
    "\n",
    "#     derivative = A * B @ C.T\n",
    "#     return derivative.T"
   ]
  },
  {
   "cell_type": "markdown",
   "id": "2ca27db7-97de-40bf-8d84-22009d94ad62",
   "metadata": {},
   "source": [
    "# Derivative "
   ]
  },
  {
   "cell_type": "code",
   "execution_count": 12,
   "id": "fb6f8e3b-4d11-4c89-9e34-148cef8f5430",
   "metadata": {},
   "outputs": [],
   "source": [
    "def derivative(feature, target, prediction):\n",
    "    batch_size = feature.shape[0]\n",
    "    cross_entropy_and_softmax_derivative = prediction - target\n",
    "    d_weight = cross_entropy_and_softmax_derivative.T @ feature\n",
    "    d_bias = cross_entropy_and_softmax_derivative.T @ np.ones((batch_size, 1, ))\n",
    "    return d_weight.T, d_bias.T"
   ]
  },
  {
   "cell_type": "code",
   "execution_count": 13,
   "id": "c287753e-fd10-43c0-ab22-18f25bb19e7c",
   "metadata": {},
   "outputs": [],
   "source": [
    "class MainModel:\n",
    "    def __init__(self, input_size, output_size):\n",
    "        self.linear = Linear(input_size, output_size)\n",
    "        self.softmax = Softmax(dim=-1)\n",
    "\n",
    "    def __call__(self, x):\n",
    "        x = self.linear(x)\n",
    "        return self.softmax(x)"
   ]
  },
  {
   "cell_type": "code",
   "execution_count": 14,
   "id": "db7c1bb6-7c51-48cb-98e7-6a3daff3535c",
   "metadata": {},
   "outputs": [],
   "source": [
    "model = MainModel(28 * 28, num_class)\n",
    "criterion = CrossEntropyLoss()"
   ]
  },
  {
   "cell_type": "markdown",
   "id": "b3a316e3-c7a4-443a-aafc-b296c6a885cc",
   "metadata": {},
   "source": [
    "# Get Data"
   ]
  },
  {
   "cell_type": "code",
   "execution_count": 15,
   "id": "4fc92012-4b06-42d3-8724-decd4486dafc",
   "metadata": {},
   "outputs": [],
   "source": [
    "iterator = iter(trainloader)"
   ]
  },
  {
   "cell_type": "code",
   "execution_count": 16,
   "id": "6c048bf5-29f0-422a-a612-b2706931bc34",
   "metadata": {},
   "outputs": [
    {
     "data": {
      "text/plain": [
       "((512, 784), (512, 10))"
      ]
     },
     "execution_count": 16,
     "metadata": {},
     "output_type": "execute_result"
    }
   ],
   "source": [
    "feature, target = next(iterator)\n",
    "feature, target = transform_data(feature, target)\n",
    "feature.shape, target.shape"
   ]
  },
  {
   "cell_type": "code",
   "execution_count": 17,
   "id": "3c077f44-1912-484b-9e43-00fa1fe941cf",
   "metadata": {},
   "outputs": [
    {
     "data": {
      "text/plain": [
       "((512, 784), (512, 10))"
      ]
     },
     "execution_count": 17,
     "metadata": {},
     "output_type": "execute_result"
    }
   ],
   "source": [
    "feature.shape, target.shape "
   ]
  },
  {
   "cell_type": "markdown",
   "id": "63d927cf-3541-4f87-bacc-97533d2a3d3a",
   "metadata": {},
   "source": [
    "# Forward Propagation"
   ]
  },
  {
   "cell_type": "code",
   "execution_count": 18,
   "id": "ed00297b-bb82-4af1-ae57-2167bf430060",
   "metadata": {},
   "outputs": [],
   "source": [
    "prediction = model(feature)"
   ]
  },
  {
   "cell_type": "code",
   "execution_count": 19,
   "id": "bc0a9306-86ee-4635-97ca-da942c19e789",
   "metadata": {},
   "outputs": [
    {
     "data": {
      "text/plain": [
       "(512, 10)"
      ]
     },
     "execution_count": 19,
     "metadata": {},
     "output_type": "execute_result"
    }
   ],
   "source": [
    "prediction.shape"
   ]
  },
  {
   "cell_type": "markdown",
   "id": "504f9b1e-1323-497d-b751-a3ec8fe38a09",
   "metadata": {},
   "source": [
    "# Optimizing"
   ]
  },
  {
   "cell_type": "code",
   "execution_count": 20,
   "id": "d1d191f4-c1f2-4e66-86e4-68c45f255bd3",
   "metadata": {},
   "outputs": [],
   "source": [
    "learning_rate = 0.001"
   ]
  },
  {
   "cell_type": "code",
   "execution_count": 21,
   "id": "bcad9ba8-4cfd-4e67-9c0b-1f0d04386059",
   "metadata": {},
   "outputs": [],
   "source": [
    "d, _ = derivative(feature, target, prediction)\n",
    "model.linear.weights = model.linear.weights - learning_rate * d"
   ]
  },
  {
   "cell_type": "code",
   "execution_count": 22,
   "id": "cf8409a4-66ac-4897-9fc5-0aca460c2187",
   "metadata": {},
   "outputs": [
    {
     "data": {
      "text/plain": [
       "((784, 10), (784, 10))"
      ]
     },
     "execution_count": 22,
     "metadata": {},
     "output_type": "execute_result"
    }
   ],
   "source": [
    "d.shape, model.linear.weights.shape"
   ]
  },
  {
   "cell_type": "code",
   "execution_count": 23,
   "id": "03953d49-9ebe-464d-b275-836264fe67fa",
   "metadata": {},
   "outputs": [
    {
     "data": {
      "text/plain": [
       "np.float64(14.116689562351368)"
      ]
     },
     "execution_count": 23,
     "metadata": {},
     "output_type": "execute_result"
    }
   ],
   "source": [
    "criterion(prediction, target)"
   ]
  },
  {
   "cell_type": "markdown",
   "id": "58bfa95d-6b83-4535-bd82-3448167be6cc",
   "metadata": {},
   "source": [
    "# Loop Train"
   ]
  },
  {
   "cell_type": "code",
   "execution_count": 24,
   "id": "896009a3-4766-438b-933e-252f61b32978",
   "metadata": {},
   "outputs": [],
   "source": [
    "from tqdm import tqdm"
   ]
  },
  {
   "cell_type": "code",
   "execution_count": 25,
   "id": "bdb5aef9-cc87-44c9-8dcf-8ccf955e213a",
   "metadata": {},
   "outputs": [
    {
     "name": "stderr",
     "output_type": "stream",
     "text": [
      "100%|██████████████████████████████████████████████████████████| 117/117 [00:15<00:00,  7.44it/s, cost=2.72, loss=1.24]\n",
      "100%|█████████████████████████████████████████████████████████| 117/117 [00:16<00:00,  7.25it/s, cost=1.08, loss=0.866]\n",
      "100%|████████████████████████████████████████████████████████| 117/117 [00:16<00:00,  7.23it/s, cost=0.852, loss=0.665]\n",
      "100%|████████████████████████████████████████████████████████| 117/117 [00:15<00:00,  7.45it/s, cost=0.747, loss=0.736]\n",
      "100%|████████████████████████████████████████████████████████| 117/117 [00:15<00:00,  7.41it/s, cost=0.683, loss=0.699]\n",
      "100%|████████████████████████████████████████████████████████| 117/117 [00:15<00:00,  7.44it/s, cost=0.637, loss=0.621]\n",
      "100%|████████████████████████████████████████████████████████| 117/117 [00:15<00:00,  7.40it/s, cost=0.603, loss=0.473]\n",
      "100%|████████████████████████████████████████████████████████| 117/117 [00:16<00:00,  7.29it/s, cost=0.575, loss=0.541]\n",
      "100%|████████████████████████████████████████████████████████| 117/117 [00:16<00:00,  7.30it/s, cost=0.551, loss=0.558]\n",
      "100%|████████████████████████████████████████████████████████| 117/117 [00:15<00:00,  7.47it/s, cost=0.532, loss=0.455]\n",
      "100%|████████████████████████████████████████████████████████| 117/117 [00:15<00:00,  7.35it/s, cost=0.515, loss=0.461]\n",
      "100%|████████████████████████████████████████████████████████| 117/117 [00:15<00:00,  7.32it/s, cost=0.501, loss=0.583]\n",
      "100%|████████████████████████████████████████████████████████| 117/117 [00:15<00:00,  7.33it/s, cost=0.487, loss=0.571]\n",
      "100%|████████████████████████████████████████████████████████| 117/117 [00:15<00:00,  7.37it/s, cost=0.476, loss=0.381]\n",
      "100%|████████████████████████████████████████████████████████| 117/117 [00:17<00:00,  6.72it/s, cost=0.465, loss=0.432]\n",
      "100%|████████████████████████████████████████████████████████| 117/117 [00:16<00:00,  7.08it/s, cost=0.456, loss=0.562]\n",
      "100%|█████████████████████████████████████████████████████████| 117/117 [00:15<00:00,  7.37it/s, cost=0.446, loss=0.38]\n",
      "100%|████████████████████████████████████████████████████████| 117/117 [00:15<00:00,  7.32it/s, cost=0.439, loss=0.361]\n",
      "100%|████████████████████████████████████████████████████████| 117/117 [00:16<00:00,  7.10it/s, cost=0.431, loss=0.354]\n",
      "100%|████████████████████████████████████████████████████████| 117/117 [00:16<00:00,  7.12it/s, cost=0.424, loss=0.539]\n"
     ]
    }
   ],
   "source": [
    "learning_rate = 0.001\n",
    "\n",
    "for epoch in range(20):\n",
    "    cost = 0\n",
    "    for indices, (feature, target) in (pbar := tqdm(enumerate(trainloader, start=1), total=len(trainloader))):\n",
    "        feature, target = transform_data(feature, target)\n",
    "    \n",
    "        prediction = model(feature)\n",
    "        loss = criterion(prediction, target)\n",
    "    \n",
    "        derivative_weight, derivative_bias = derivative(feature, target, prediction)\n",
    "    \n",
    "        # optimize SGD\n",
    "        model.linear.weights = model.linear.weights - learning_rate * derivative_weight\n",
    "        model.linear.bias = model.linear.bias - learning_rate * derivative_bias\n",
    "\n",
    "        cost = cost + loss\n",
    "        pbar.set_postfix(loss = loss, cost = cost / indices)\n"
   ]
  },
  {
   "cell_type": "code",
   "execution_count": null,
   "id": "2e92f8ca-8cb9-4cc7-b276-f3a80829423e",
   "metadata": {},
   "outputs": [],
   "source": []
  },
  {
   "cell_type": "code",
   "execution_count": null,
   "id": "7fdd770c-274c-483f-a538-4e84882dd3d9",
   "metadata": {},
   "outputs": [],
   "source": []
  },
  {
   "cell_type": "code",
   "execution_count": null,
   "id": "1201bb96-4daf-4757-90df-16804d1dc6e3",
   "metadata": {},
   "outputs": [],
   "source": []
  },
  {
   "cell_type": "code",
   "execution_count": null,
   "id": "533a10de-6d4d-4ece-9e1c-669a38cd5997",
   "metadata": {},
   "outputs": [],
   "source": []
  },
  {
   "cell_type": "code",
   "execution_count": null,
   "id": "9c145e3f-6d60-4501-8651-174bd0e8f38a",
   "metadata": {},
   "outputs": [],
   "source": []
  },
  {
   "cell_type": "code",
   "execution_count": null,
   "id": "75f0d055-61d4-414b-b4e1-53da357ed7c6",
   "metadata": {},
   "outputs": [],
   "source": []
  },
  {
   "cell_type": "code",
   "execution_count": null,
   "id": "5c96af01-2c2d-40c1-a2e9-4393ff9a7678",
   "metadata": {},
   "outputs": [],
   "source": []
  }
 ],
 "metadata": {
  "kernelspec": {
   "display_name": "Python 3 (ipykernel)",
   "language": "python",
   "name": "python3"
  },
  "language_info": {
   "codemirror_mode": {
    "name": "ipython",
    "version": 3
   },
   "file_extension": ".py",
   "mimetype": "text/x-python",
   "name": "python",
   "nbconvert_exporter": "python",
   "pygments_lexer": "ipython3",
   "version": "3.13.3"
  }
 },
 "nbformat": 4,
 "nbformat_minor": 5
}
